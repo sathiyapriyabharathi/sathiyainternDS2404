{
 "cells": [
  {
   "cell_type": "code",
   "execution_count": 1,
   "id": "6c22875c",
   "metadata": {},
   "outputs": [
    {
     "name": "stdout",
     "output_type": "stream",
     "text": [
      "Enter a number: 4\n",
      "Factorial of 4 is 24\n"
     ]
    }
   ],
   "source": [
    "def factorial(n):\n",
    "    if n == 0:\n",
    "        return 1\n",
    "    else:\n",
    "        return n * factorial(n-1)\n",
    "\n",
    "# Taking input from the user\n",
    "num = int(input(\"Enter a number: \"))\n",
    "\n",
    "# Checking if the number is negative\n",
    "if num < 0:\n",
    "    print(\"Factorial does not exist for negative numbers.\")\n",
    "elif num == 0:\n",
    "    print(\"Factorial of 0 is 1\")\n",
    "else:\n",
    "    print(\"Factorial of\", num, \"is\", factorial(num))\n"
   ]
  },
  {
   "cell_type": "code",
   "execution_count": 3,
   "id": "38d43b87",
   "metadata": {},
   "outputs": [
    {
     "name": "stdout",
     "output_type": "stream",
     "text": [
      "Enter a number: 6\n",
      "6 is a composite number.\n"
     ]
    }
   ],
   "source": [
    "def is_prime(n):\n",
    "    if n <= 1:\n",
    "        return False\n",
    "    elif n <= 3:\n",
    "        return True\n",
    "    elif n % 2 == 0 or n % 3 == 0:\n",
    "        return False\n",
    "    i = 5\n",
    "    while i * i <= n:\n",
    "        if n % i == 0 or n % (i + 2) == 0:\n",
    "            return False\n",
    "        i += 6\n",
    "    return True\n",
    "\n",
    "# Taking input from the user\n",
    "num = int(input(\"Enter a number: \"))\n",
    "\n",
    "# Checking if the number is prime or composite\n",
    "if is_prime(num):\n",
    "    print(num, \"is a prime number.\")\n",
    "else:\n",
    "    print(num, \"is a composite number.\")"
   ]
  },
  {
   "cell_type": "code",
   "execution_count": 5,
   "id": "9e2f110f",
   "metadata": {},
   "outputs": [
    {
     "name": "stdout",
     "output_type": "stream",
     "text": [
      "Enter a string: mum\n",
      "The string is a palindrome.\n"
     ]
    }
   ],
   "source": [
    "def is_palindrome(s):\n",
    "    # Remove spaces and convert to lowercase\n",
    "    s = s.replace(\" \", \"\").lower()\n",
    "    # Check if the string is equal to its reverse\n",
    "    return s == s[::-1]\n",
    "\n",
    "# Taking input from the user\n",
    "string = input(\"Enter a string: \")\n",
    "\n",
    "# Checking if the string is a palindrome\n",
    "if is_palindrome(string):\n",
    "    print(\"The string is a palindrome.\")\n",
    "else:\n",
    "    print(\"The string is not a palindrome.\")"
   ]
  },
  {
   "cell_type": "code",
   "execution_count": 6,
   "id": "1cfdb76a",
   "metadata": {},
   "outputs": [
    {
     "name": "stdout",
     "output_type": "stream",
     "text": [
      "Enter the length of the first side: 2\n",
      "Enter the length of the second side: 4\n",
      "The length of the third side of the right-angled triangle is: 4.47213595499958\n"
     ]
    }
   ],
   "source": [
    "def find_third_side(side1, side2):\n",
    "    # Using Pythagorean theorem: c = sqrt(a^2 + b^2)\n",
    "    third_side = (side1 ** 2 + side2 ** 2) ** 0.5\n",
    "    return third_side\n",
    "\n",
    "# Taking input from the user for the two sides\n",
    "side1 = float(input(\"Enter the length of the first side: \"))\n",
    "side2 = float(input(\"Enter the length of the second side: \"))\n",
    "\n",
    "# Calculating the length of the third side\n",
    "third_side = find_third_side(side1, side2)\n",
    "\n",
    "print(\"The length of the third side of the right-angled triangle is:\", third_side)"
   ]
  },
  {
   "cell_type": "code",
   "execution_count": 7,
   "id": "682d1bff",
   "metadata": {},
   "outputs": [
    {
     "name": "stdout",
     "output_type": "stream",
     "text": [
      "Enter a string: hlhlk\n",
      "Character frequencies:\n",
      "'h': 2\n",
      "'l': 2\n",
      "'k': 1\n"
     ]
    }
   ],
   "source": [
    "def character_frequency(string):\n",
    "    # Initialize an empty dictionary to store character frequencies\n",
    "    freq_dict = {}\n",
    "    \n",
    "    # Count the frequency of each character in the string\n",
    "    for char in string:\n",
    "        if char in freq_dict:\n",
    "            freq_dict[char] += 1\n",
    "        else:\n",
    "            freq_dict[char] = 1\n",
    "    \n",
    "    return freq_dict\n",
    "\n",
    "# Taking input from the user\n",
    "string = input(\"Enter a string: \")\n",
    "\n",
    "# Calculating the frequency of each character in the string\n",
    "freq = character_frequency(string)\n",
    "\n",
    "# Printing the frequency of each character\n",
    "print(\"Character frequencies:\")\n",
    "for char, count in freq.items():\n",
    "    print(f\"'{char}': {count}\")"
   ]
  },
  {
   "cell_type": "code",
   "execution_count": null,
   "id": "b1efcba7",
   "metadata": {},
   "outputs": [],
   "source": []
  }
 ],
 "metadata": {
  "kernelspec": {
   "display_name": "Python 3 (ipykernel)",
   "language": "python",
   "name": "python3"
  },
  "language_info": {
   "codemirror_mode": {
    "name": "ipython",
    "version": 3
   },
   "file_extension": ".py",
   "mimetype": "text/x-python",
   "name": "python",
   "nbconvert_exporter": "python",
   "pygments_lexer": "ipython3",
   "version": "3.11.5"
  }
 },
 "nbformat": 4,
 "nbformat_minor": 5
}
