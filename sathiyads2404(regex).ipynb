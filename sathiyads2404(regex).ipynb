{
 "cells": [
  {
   "cell_type": "code",
   "execution_count": 24,
   "id": "16e1459a",
   "metadata": {},
   "outputs": [
    {
     "name": "stdout",
     "output_type": "stream",
     "text": [
      "Expected Output: Python:Exercises::PHP:exercises:\n"
     ]
    }
   ],
   "source": [
    "#Question 1:\n",
    "def replace_chars(text):\n",
    "    # Replace space, comma, and dot with colon\n",
    "    replaced_text = text.replace(' ', ':').replace(',', ':').replace('.', ':')\n",
    "    return replaced_text\n",
    "\n",
    "sample_text = 'Python Exercises, PHP exercises.'\n",
    "output = replace_chars(sample_text)\n",
    "print(\"Expected Output:\", output)\n"
   ]
  },
  {
   "cell_type": "code",
   "execution_count": 94,
   "id": "4a750206",
   "metadata": {},
   "outputs": [
    {
     "name": "stdout",
     "output_type": "stream",
     "text": [
      "             SUMMARY\n",
      "0        hello world\n",
      "1               test\n",
      "2  123 four five six\n"
     ]
    }
   ],
   "source": [
    "#Question 2:\n",
    "import pandas as pd\n",
    "import re\n",
    "\n",
    "# Define the dictionary\n",
    "data = {'SUMMARY': ['hello, world!', 'XXXXX test', '123 four, five:; six...']}\n",
    "\n",
    "# Create a DataFrame\n",
    "df = pd.DataFrame(data)\n",
    "\n",
    "# function remove everything except words\n",
    "def remove_non_words(text):\n",
    "    # Use regular expression to remove non-word characters\n",
    "    cleaned_text = re.sub(r'[^\\w\\s]','', text).replace('X','')\n",
    "    return cleaned_text\n",
    "\n",
    "# Apply the function to the 'SUMMARY' column\n",
    "df['SUMMARY'] = df['SUMMARY'].apply(remove_non_words)\n",
    "\n",
    "print(df)\n"
   ]
  },
  {
   "cell_type": "code",
   "execution_count": 67,
   "id": "64d81759",
   "metadata": {},
   "outputs": [
    {
     "name": "stdout",
     "output_type": "stream",
     "text": [
      "['This', 'sample', 'text', 'with', 'some', 'words', 'like', 'Python', 'exercise']\n"
     ]
    }
   ],
   "source": [
    "#Question 3:\n",
    "import re\n",
    "\n",
    "def find_long_words(text):\n",
    "    # to find words at least 4 characters long\n",
    "    pattern = re.compile(r'\\b\\w{4,}\\b')\n",
    "    \n",
    "    # find all matches in the text\n",
    "    long_words = pattern.findall(text)\n",
    "    \n",
    "    return long_words\n",
    "\n",
    "# Test the function\n",
    "text = \"This is a sample text with some words like 'Python' and 'exercise'.\"\n",
    "result = find_long_words(text)\n",
    "print(result)\n"
   ]
  },
  {
   "cell_type": "code",
   "execution_count": 66,
   "id": "90d45b9c",
   "metadata": {},
   "outputs": [
    {
     "name": "stdout",
     "output_type": "stream",
     "text": [
      "['This', 'text', 'with', 'some', 'words', 'like', 'pink', 'apple', 'and', 'Dog']\n"
     ]
    }
   ],
   "source": [
    "#Question 4:\n",
    "import re\n",
    "\n",
    "def find_words_of_length(text):\n",
    "    # find words of lengths three, four, and five characters\n",
    "    pattern = re.compile(r'\\b\\w{3,5}\\b')\n",
    "    \n",
    "    #find all matches in the text\n",
    "    words = pattern.findall(text)\n",
    "    \n",
    "    return words\n",
    "\n",
    "# Test the function\n",
    "text = \"This is a sample text with some words like 'pink', 'Python', 'apple', and 'Dog'.\"\n",
    "result = find_words_of_length(text)\n",
    "print(result)\n"
   ]
  },
  {
   "cell_type": "code",
   "execution_count": 95,
   "id": "c20b5a71",
   "metadata": {},
   "outputs": [
    {
     "name": "stdout",
     "output_type": "stream",
     "text": [
      "['example.com', 'hr@fliprobo.com', 'github.com', 'HelloDataScienceWorld', 'DataScientist']\n"
     ]
    }
   ],
   "source": [
    "#Question 5:\n",
    "import re\n",
    "\n",
    "def remove_parentheses(strings):\n",
    "    # to match parentheses and their contents\n",
    "    pattern =re.compile(r'\\s+|[\\(\\)]')\n",
    "\n",
    "    # to remove parentheses from string\n",
    "    def remove_parenthesis(text):\n",
    "        return re.sub(pattern, '', text)\n",
    "    # remove_parenthesis function to each string in the list\n",
    "    output = [remove_parenthesis(string) for string in strings]\n",
    "\n",
    "    return output\n",
    "\n",
    "# Test the function\n",
    "sample_text = [\"example (.com)\", \"hr@fliprobo (.com)\", \"github (.com)\", \"Hello (Data Science World)\", \"Data (Scientist)\"]\n",
    "result = remove_parentheses(sample_text)\n",
    "print(result)\n"
   ]
  },
  {
   "cell_type": "code",
   "execution_count": 92,
   "id": "e3f31d07",
   "metadata": {},
   "outputs": [
    {
     "name": "stdout",
     "output_type": "stream",
     "text": [
      "['\"example\", \"hr@fliprobo\", \"github\", \"Hello\", \"Data\"']\n"
     ]
    }
   ],
   "source": [
    "#Question 6\n",
    "import re\n",
    "# Function to remove parenthesis\n",
    "def remove_parenthesis(text):\n",
    "    return re.sub(r'\\s*\\([^)]*\\)', '', text)\n",
    "\n",
    "# Read text from input file\n",
    "input_file_path = 'D:/flip/intput.txt'\n",
    "with open(input_file_path, 'r') as file:\n",
    "    lines = file.readlines()\n",
    "# call function\n",
    "cleaned_lines = [remove_parenthesis(line) for line in lines]\n",
    "# Print the cleaned lines\n",
    "print(cleaned_lines)\n"
   ]
  },
  {
   "cell_type": "code",
   "execution_count": 93,
   "id": "d8c96bd8",
   "metadata": {},
   "outputs": [
    {
     "name": "stdout",
     "output_type": "stream",
     "text": [
      "['Importance', 'Of', 'Regular', 'Expressions', 'In', 'Python']\n"
     ]
    }
   ],
   "source": [
    "#Question 7\n",
    "import re\n",
    "sample_text = \"ImportanceOfRegularExpressionsInPython\"\n",
    "pattern = re.compile(r'(?=[A-Z])')\n",
    "# Split the string using the pattern\n",
    "output = pattern.split(sample_text)\n",
    "output = [word for word in output if word]\n",
    "print(output)"
   ]
  },
  {
   "cell_type": "code",
   "execution_count": 96,
   "id": "bd660397",
   "metadata": {},
   "outputs": [
    {
     "name": "stdout",
     "output_type": "stream",
     "text": [
      "RegularExpression 1IsAn 2ImportantTopic 3InPython\n"
     ]
    }
   ],
   "source": [
    "#Question 8\n",
    "import re\n",
    "\n",
    "def insert_spaces(text):\n",
    "    # Define a regular expression pattern to match words starting with numbers\n",
    "    pattern = re.compile(r'(?<=[^\\d\\s])(?=\\d)')\n",
    "\n",
    "    # Insert spaces before words starting with numbers\n",
    "    spaced_text = pattern.sub(' ', text)\n",
    "\n",
    "    return spaced_text\n",
    "\n",
    "# Sample text\n",
    "sample_text = \"RegularExpression1IsAn2ImportantTopic3InPython\"\n",
    "\n",
    "# Call the function\n",
    "output = insert_spaces(sample_text)\n",
    "print(output)\n"
   ]
  },
  {
   "cell_type": "code",
   "execution_count": 97,
   "id": "9d6efe2f",
   "metadata": {},
   "outputs": [
    {
     "name": "stdout",
     "output_type": "stream",
     "text": [
      "Regular Expression 1 Is An 2 Important Topic 3 In Python\n"
     ]
    }
   ],
   "source": [
    "#Question 9\n",
    "import re\n",
    "\n",
    "def insert_spaces(text):\n",
    "    # Define pattern to match words starting with capital letters or numbers\n",
    "    pattern = re.compile(r'(?<=[a-z])(?=[A-Z\\d])|(?<=\\d)(?=[A-Za-z])')\n",
    "\n",
    "    # Insert spaces\n",
    "    spaced_text = pattern.sub(' ', text)\n",
    "\n",
    "    return spaced_text\n",
    "\n",
    "# Sample text\n",
    "sample_text = \"RegularExpression1IsAn2ImportantTopic3InPython\"\n",
    "\n",
    "# Call the function\n",
    "output = insert_spaces(sample_text)\n",
    "print(output)"
   ]
  },
  {
   "cell_type": "code",
   "execution_count": 98,
   "id": "0bf07525",
   "metadata": {},
   "outputs": [
    {
     "name": "stdout",
     "output_type": "stream",
     "text": [
      "       Country          Region  Happiness Rank  Happiness Score  \\\n",
      "0  Switzerland  Western Europe               1            7.587   \n",
      "1      Iceland  Western Europe               2            7.561   \n",
      "2      Denmark  Western Europe               3            7.527   \n",
      "3       Norway  Western Europe               4            7.522   \n",
      "4       Canada   North America               5            7.427   \n",
      "\n",
      "   Standard Error  Economy (GDP per Capita)   Family  \\\n",
      "0         0.03411                   1.39651  1.34951   \n",
      "1         0.04884                   1.30232  1.40223   \n",
      "2         0.03328                   1.32548  1.36058   \n",
      "3         0.03880                   1.45900  1.33095   \n",
      "4         0.03553                   1.32629  1.32261   \n",
      "\n",
      "   Health (Life Expectancy)  Freedom  Trust (Government Corruption)  \\\n",
      "0                   0.94143  0.66557                        0.41978   \n",
      "1                   0.94784  0.62877                        0.14145   \n",
      "2                   0.87464  0.64938                        0.48357   \n",
      "3                   0.88521  0.66973                        0.36503   \n",
      "4                   0.90563  0.63297                        0.32957   \n",
      "\n",
      "   Generosity  Dystopia Residual first_five_letters  \n",
      "0     0.29678            2.51738             Switze  \n",
      "1     0.43630            2.70201             Icelan  \n",
      "2     0.34139            2.49204             Denmar  \n",
      "3     0.34699            2.46531             Norway  \n",
      "4     0.45811            2.45176             Canada  \n"
     ]
    }
   ],
   "source": [
    "#Question 10\n",
    "import pandas as pd\n",
    "\n",
    "# Read the data from the GitHub link into a DataFrame\n",
    "url = \"https://raw.githubusercontent.com/dsrscientist/DSData/master/happiness_score_dataset.csv\"\n",
    "df = pd.read_csv(url)\n",
    "\n",
    "# Extract column\n",
    "df['first_five_letters'] = df['Country'].str[:6]\n",
    "\n",
    "# Display DataFrame\n",
    "print(df.head())"
   ]
  },
  {
   "cell_type": "code",
   "execution_count": 107,
   "id": "c2df8d44",
   "metadata": {},
   "outputs": [
    {
     "name": "stdout",
     "output_type": "stream",
     "text": [
      "'sathiya_123' matches the pattern.\n",
      "'bharu123' matches the pattern.\n",
      "'123' matches the pattern.\n",
      "'_' matches the pattern.\n",
      "'Hello World' does not match the pattern.\n",
      "'helloworld!' does not match the pattern.\n"
     ]
    }
   ],
   "source": [
    "#question 11\n",
    "import re\n",
    "\n",
    "def match_string(text):\n",
    "    pattern = re.compile(r'^[a-zA-Z0-9_]+$')\n",
    "    if pattern.match(text):\n",
    "        return True\n",
    "    else:\n",
    "        return False\n",
    "\n",
    "# Test the function with some example strings\n",
    "strings = [\"sathiya_123\", \"bharu123\", \"123\",\"_\", \"Hello World\", \"helloworld!\"]\n",
    "for string in strings:\n",
    "    if match_string(string):\n",
    "        print(f\"'{string}' matches the pattern.\")\n",
    "    else:\n",
    "        print(f\"'{string}' does not match the pattern.\")\n"
   ]
  },
  {
   "cell_type": "code",
   "execution_count": 110,
   "id": "9c08fea6",
   "metadata": {},
   "outputs": [
    {
     "name": "stdout",
     "output_type": "stream",
     "text": [
      "'123abc' starts with the specified number 123.\n",
      "'456def' not start with specified number 789.\n"
     ]
    }
   ],
   "source": [
    "#Question 12\n",
    "import re\n",
    "\n",
    "def starts_with_number(text, number):\n",
    "    # match the specified number at the start of the string\n",
    "    pattern = re.compile(r'^' + str(number))\n",
    "\n",
    "    # Use match() check \n",
    "    if pattern.match(text):\n",
    "        return True\n",
    "    else:\n",
    "        return False\n",
    "\n",
    "# Test the function \n",
    "strings_numbers = [(\"123abc\", 123), (\"456def\", 789)]\n",
    "for string, number in strings_numbers:\n",
    "    if starts_with_number(string, number):\n",
    "        print(f\"'{string}' starts with the specified number {number}.\")\n",
    "    else:\n",
    "        print(f\"'{string}' not start with specified number {number}.\")\n"
   ]
  },
  {
   "cell_type": "code",
   "execution_count": 111,
   "id": "362f6188",
   "metadata": {},
   "outputs": [
    {
     "name": "stdout",
     "output_type": "stream",
     "text": [
      "Original IP address: 199.158.001.001\n",
      "Cleaned IP address: 199.158.1.1\n"
     ]
    }
   ],
   "source": [
    "#Question 13\n",
    "import re\n",
    "\n",
    "def remove_leading_zeros(ip_address):\n",
    "    # pattern to match leading zeros\n",
    "    pattern = re.compile(r'\\b0+(\\d+)')\n",
    "\n",
    "    # Use the sub() method to remove zeros\n",
    "    cleaned_ip_address = pattern.sub(r'\\1', ip_address)\n",
    "\n",
    "    return cleaned_ip_address\n",
    "\n",
    "# call function \n",
    "ip_address = \"199.158.001.001\"\n",
    "cleaned_ip = remove_leading_zeros(ip_address)\n",
    "print(\"Original IP address:\", ip_address)\n",
    "print(\"Cleaned IP address:\", cleaned_ip)\n"
   ]
  },
  {
   "cell_type": "code",
   "execution_count": 113,
   "id": "f5ffc5a3",
   "metadata": {},
   "outputs": [
    {
     "name": "stdout",
     "output_type": "stream",
     "text": [
      "['August 15th 1947']\n"
     ]
    }
   ],
   "source": [
    "#Question 14\n",
    "import re\n",
    "\n",
    "# Read the text from the input file\n",
    "with open('D:/flip/month.txt', 'r') as file:\n",
    "    text = file.read()\n",
    "\n",
    "# Define a regular expression pattern to match the date string\n",
    "pattern = re.compile(r'\\b(?:January|February|March|April|May|June|July|August|September|October|November|December)\\s+\\d{1,2}(?:st|nd|rd|th)?\\s+\\d{4}\\b')\n",
    "\n",
    "# Use the findall() method to find all occurrences of the date string in the text\n",
    "matches = pattern.findall(text)\n",
    "\n",
    "# Print the matches\n",
    "print(matches)"
   ]
  },
  {
   "cell_type": "code",
   "execution_count": 114,
   "id": "0d248615",
   "metadata": {},
   "outputs": [
    {
     "name": "stdout",
     "output_type": "stream",
     "text": [
      "Found words: ['fox', 'dog']\n"
     ]
    }
   ],
   "source": [
    "#Question 15\n",
    "def search_words(text, searched_words):\n",
    "    found_words = []\n",
    "    for word in searched_words:\n",
    "        if word in text:\n",
    "            found_words.append(word)\n",
    "    return found_words\n",
    "\n",
    "# Sample text\n",
    "sample_text = 'The quick brown fox jumps over the lazy dog.'\n",
    "\n",
    "# Searched words\n",
    "searched_words = ['fox', 'dog', 'horse']\n",
    "\n",
    "# Search for the words\n",
    "found_words = search_words(sample_text, searched_words)\n",
    "\n",
    "# Print the found words\n",
    "print(\"Found words:\", found_words)\n"
   ]
  },
  {
   "cell_type": "code",
   "execution_count": 115,
   "id": "755c2bd7",
   "metadata": {},
   "outputs": [
    {
     "name": "stdout",
     "output_type": "stream",
     "text": [
      "The word 'fox' is found at index 16 in the text.\n"
     ]
    }
   ],
   "source": [
    "#Question 16\n",
    "def search_word(text, searched_word):\n",
    "    # Find the index of the searched word in the text\n",
    "    index = text.find(searched_word)\n",
    "    if index != -1:\n",
    "        print(f\"The word '{searched_word}' is found at index {index} in the text.\")\n",
    "    else:\n",
    "        print(f\"The word '{searched_word}' is not found in the text.\")\n",
    "\n",
    "# Sample text\n",
    "sample_text = 'The quick brown fox jumps over the lazy dog.'\n",
    "\n",
    "# Searched word\n",
    "searched_word = 'fox'\n",
    "\n",
    "# Search for the word and find its location\n",
    "search_word(sample_text, searched_word)\n"
   ]
  },
  {
   "cell_type": "code",
   "execution_count": 124,
   "id": "29749bdf",
   "metadata": {},
   "outputs": [
    {
     "name": "stdout",
     "output_type": "stream",
     "text": [
      "The pattern 'exercises' occurs 3 times\n"
     ]
    }
   ],
   "source": [
    "#Question 17\n",
    "def find_substrings(text, pattern):\n",
    "    start_index = 0\n",
    "    occurrences = 0\n",
    "    while True:\n",
    "        index = text.find(pattern, start_index)\n",
    "        if index == -1:\n",
    "            break\n",
    "        occurrences+=1\n",
    "        start_index = index + 1\n",
    "    return occurrences\n",
    "\n",
    "# Sample text\n",
    "sample_text = 'Python exercises, PHP exercises, C# exercises'\n",
    "\n",
    "# Pattern to search\n",
    "pattern = 'exercises'\n",
    "\n",
    "# Find occurrences of the pattern within the text\n",
    "occurrences = find_substrings(sample_text, pattern)\n",
    "\n",
    "# Print the occurrences\n",
    "print(f\"The pattern '{pattern}' occurs {occurrences} times\")\n"
   ]
  },
  {
   "cell_type": "code",
   "execution_count": 129,
   "id": "a0390146",
   "metadata": {},
   "outputs": [
    {
     "name": "stdout",
     "output_type": "stream",
     "text": [
      "The pattern 'exercises' occurs 3 times\n",
      "The pattern 'exercises' positions '[7, 22, 36]'\n"
     ]
    }
   ],
   "source": [
    "#Question 18\n",
    "def find_substrings(text, pattern):\n",
    "    start_index = 0\n",
    "    occurrences = 0\n",
    "    position=[]\n",
    "    while True:\n",
    "        index = text.find(pattern, start_index)\n",
    "        if index == -1:\n",
    "            break\n",
    "        occurrences+=1\n",
    "        position.append(index)\n",
    "        start_index = index + 1\n",
    "    return occurrences,position\n",
    "\n",
    "# Sample text\n",
    "sample_text = 'Python exercises, PHP exercises, C# exercises'\n",
    "\n",
    "# Pattern to search\n",
    "pattern = 'exercises'\n",
    "\n",
    "# Find occurrences of the pattern within the text\n",
    "occurrences,position = find_substrings(sample_text, pattern)\n",
    "\n",
    "# Print the occurrences\n",
    "print(f\"The pattern '{pattern}' occurs {occurrences} times\")\n",
    "print(f\"The pattern '{pattern}' positions '{position}'\")\n",
    "\n"
   ]
  },
  {
   "cell_type": "code",
   "execution_count": 130,
   "id": "aec44a7e",
   "metadata": {},
   "outputs": [
    {
     "name": "stdout",
     "output_type": "stream",
     "text": [
      "Original date: 2023-04-15\n",
      "Converted date: 15-04-2023\n"
     ]
    }
   ],
   "source": [
    "#Question 19\n",
    "from datetime import datetime\n",
    "\n",
    "def convert_date_format(date_str):\n",
    "    # Convert \n",
    "    date_obj = datetime.strptime(date_str, '%Y-%m-%d')\n",
    "    # Convert \n",
    "    formatted_date = date_obj.strftime('%d-%m-%Y')\n",
    "    return formatted_date\n",
    "\n",
    "# Input date yyyy-mm-dd format\n",
    "date_str = '2023-04-15'\n",
    "\n",
    "# Convert the date format\n",
    "converted_date = convert_date_format(date_str)\n",
    "\n",
    "# Print the converted date\n",
    "print(\"Original date:\", date_str)\n",
    "print(\"Converted date:\", converted_date)"
   ]
  },
  {
   "cell_type": "code",
   "execution_count": 131,
   "id": "7bfe990b",
   "metadata": {},
   "outputs": [
    {
     "name": "stdout",
     "output_type": "stream",
     "text": [
      "['01.12', '145.8', '3.01', '27.25', '0.25']\n"
     ]
    }
   ],
   "source": [
    "#Question 20\n",
    "import re\n",
    "\n",
    "def find_decimal_numbers(text):\n",
    "    #decimal numbers with precision of 1 or 2\n",
    "    pattern = re.compile(r'\\b\\d+\\.\\d{1,2}\\b')\n",
    "\n",
    "    #find all matches in the text\n",
    "    matches = pattern.findall(text)\n",
    "    \n",
    "    return matches\n",
    "\n",
    "# Sample text\n",
    "sample_text = \"01.12 0132.123 2.31875 145.8 3.01 27.25 0.25\"\n",
    "\n",
    "# Find all decimal numbers with precision of 1 or 2\n",
    "decimal_numbers = find_decimal_numbers(sample_text)\n",
    "\n",
    "# Print the decimal numbers\n",
    "print(decimal_numbers)"
   ]
  },
  {
   "cell_type": "code",
   "execution_count": 132,
   "id": "a3a50070",
   "metadata": {},
   "outputs": [
    {
     "name": "stdout",
     "output_type": "stream",
     "text": [
      "Numbers: ['1', '2', '3', '4', '5', '6', '7', '8', '9']\n",
      "Positions: [3, 4, 5, 9, 10, 11, 15, 16, 17]\n"
     ]
    }
   ],
   "source": [
    "#Question 21\n",
    "def separate_numbers(text):\n",
    "    numbers = []\n",
    "    positions = []\n",
    "    for i, char in enumerate(text):\n",
    "        if char.isdigit():\n",
    "            numbers.append(char)\n",
    "            positions.append(i)\n",
    "    return numbers, positions\n",
    "\n",
    "# Sample text\n",
    "sample_text = \"abc123def456ghi789\"\n",
    "\n",
    "# Separate numbers and their positions\n",
    "numbers, positions = separate_numbers(sample_text)\n",
    "\n",
    "# Print the numbers and their positions\n",
    "print(\"Numbers:\", numbers)\n",
    "print(\"Positions:\", positions)"
   ]
  },
  {
   "cell_type": "code",
   "execution_count": 133,
   "id": "71fdfce8",
   "metadata": {},
   "outputs": [
    {
     "name": "stdout",
     "output_type": "stream",
     "text": [
      "Maximum numeric value: 950\n"
     ]
    }
   ],
   "source": [
    "#Question 22\n",
    "import re\n",
    "\n",
    "def extract_maximum_numeric_value(text):\n",
    "    #match numeric values\n",
    "    pattern = re.compile(r'\\b\\d+\\b')\n",
    "\n",
    "    #find all numeric values in the text\n",
    "    numbers = [int(match) for match in pattern.findall(text)]\n",
    "\n",
    "    # Check if there are any numbers found\n",
    "    if numbers:\n",
    "        return max(numbers)\n",
    "    else:\n",
    "        return None\n",
    "\n",
    "# Sample text\n",
    "sample_text = 'My marks in each semester are: 947, 896, 926, 524, 734, 950, 642'\n",
    "\n",
    "# Extract the maximum numeric value\n",
    "maximum_numeric_value = extract_maximum_numeric_value(sample_text)\n",
    "\n",
    "# Print the maximum numeric value\n",
    "print(\"Maximum numeric value:\", maximum_numeric_value)"
   ]
  },
  {
   "cell_type": "code",
   "execution_count": 134,
   "id": "47334c1f",
   "metadata": {},
   "outputs": [
    {
     "name": "stdout",
     "output_type": "stream",
     "text": [
      "Original text: RegularExpressionIsAnImportantTopicInPython\n",
      "Spaced text: Regular Expression Is An Important Topic In Python\n"
     ]
    }
   ],
   "source": [
    "#Question 23\n",
    "import re\n",
    "\n",
    "def insert_spaces(text):\n",
    "    #find words starting with capital letters\n",
    "    pattern = re.compile(r'([A-Z][a-z]*)')\n",
    "\n",
    "    # Insert space starting with capital letters\n",
    "    spaced_text = re.sub(pattern, r' \\1', text)\n",
    "\n",
    "    return spaced_text.strip()  \n",
    "\n",
    "# Sample text\n",
    "sample_text = \"RegularExpressionIsAnImportantTopicInPython\"\n",
    "\n",
    "# call function\n",
    "spaced_text = insert_spaces(sample_text)\n",
    "\n",
    "# Print the result\n",
    "print(\"Original text:\", sample_text)\n",
    "print(\"Spaced text:\", spaced_text)\n"
   ]
  },
  {
   "cell_type": "code",
   "execution_count": 135,
   "id": "d706cfe1",
   "metadata": {},
   "outputs": [
    {
     "name": "stdout",
     "output_type": "stream",
     "text": [
      "['Find', 'Case']\n"
     ]
    }
   ],
   "source": [
    "#Question 24\n",
    "import re\n",
    "\n",
    "# Sample text\n",
    "sample_text = \"Find upper Case letter\"\n",
    "\n",
    "# match sequences of one uppercase letter\n",
    "pattern = re.compile(r'[A-Z][a-z]+')\n",
    "\n",
    "# find all matches of the pattern in the text\n",
    "matches = pattern.findall(sample_text)\n",
    "\n",
    "# Print the matches\n",
    "print(matches)"
   ]
  },
  {
   "cell_type": "code",
   "execution_count": 136,
   "id": "ed9728f9",
   "metadata": {},
   "outputs": [
    {
     "name": "stdout",
     "output_type": "stream",
     "text": [
      "Original text: Hello hello world world\n",
      "Cleaned text: Hello hello world\n"
     ]
    }
   ],
   "source": [
    "#Question 25\n",
    "import re\n",
    "\n",
    "def remove_continuous_duplicates(sentence):\n",
    "    # match continuous duplicate words\n",
    "    pattern = re.compile(r'\\b(\\w+)(\\s+\\1\\b)+')\n",
    "\n",
    "    # remove continuous duplicate words from the sentence\n",
    "    cleaned_sentence = pattern.sub(r'\\1', sentence)\n",
    "\n",
    "    return cleaned_sentence.strip()  # Remove leading/trailing spaces\n",
    "\n",
    "# Sample text\n",
    "sample_text = \"Hello hello world world\"\n",
    "\n",
    "# Remove continuous duplicate words\n",
    "cleaned_text = remove_continuous_duplicates(sample_text)\n",
    "\n",
    "print(\"Original text:\", sample_text)\n",
    "print(\"Cleaned text:\", cleaned_text)"
   ]
  },
  {
   "cell_type": "code",
   "execution_count": 138,
   "id": "95942c52",
   "metadata": {},
   "outputs": [
    {
     "name": "stdout",
     "output_type": "stream",
     "text": [
      "123: True\n",
      "world_: True\n",
      "test123_: True\n",
      "123test: True\n",
      ": False\n"
     ]
    }
   ],
   "source": [
    "#Question 26\n",
    "import re\n",
    "\n",
    "def ends_with_alphanumeric(text):\n",
    "    # match strings ending with an alphanumeric character\n",
    "    pattern = re.compile(r'\\w$')\n",
    "\n",
    "    match = pattern.search(text)\n",
    "\n",
    "    return match is not None\n",
    "\n",
    "# Sample strings\n",
    "sample_strings = [\"123\", \"world_\", \"test123_\", \"123test\", \"\"]\n",
    "\n",
    "# Check if each string ends with an alphanumeric character\n",
    "for string in sample_strings:\n",
    "    print(f\"{string}: {ends_with_alphanumeric(string)}\")"
   ]
  },
  {
   "cell_type": "code",
   "execution_count": 148,
   "id": "8c88a410",
   "metadata": {},
   "outputs": [
    {
     "name": "stdout",
     "output_type": "stream",
     "text": [
      "Hashtags: ['#Doltiwal', '#xyzabc', '#Demonetization']\n"
     ]
    }
   ],
   "source": [
    "#Question 27\n",
    "\n",
    "import re\n",
    "\n",
    "def extract_hashtags(text):\n",
    "    # match hashtags\n",
    "    pattern = re.compile(r'#\\w+')\n",
    "\n",
    "    # matches of the pattern in the text\n",
    "    hashtags = pattern.findall(text)\n",
    "\n",
    "    return hashtags\n",
    "\n",
    "# Sample text\n",
    "sample_text = \"\"\"RT @kapil_kausik: #Doltiwal I mean #xyzabc is \"hurt\" by #Demonetization as the same has rendered USELESS <ed><U+00A0><U+00BD><ed><U+00B1><U+0089> \"acquired funds\" No wo\"\"\"\n",
    "\n",
    "# Extract hashtags from the sample text\n",
    "hashtags = extract_hashtags(sample_text)\n",
    "\n",
    "# Print the hashtags\n",
    "print(\"Hashtags:\", hashtags)"
   ]
  },
  {
   "cell_type": "code",
   "execution_count": 151,
   "id": "1620587c",
   "metadata": {},
   "outputs": [
    {
     "name": "stdout",
     "output_type": "stream",
     "text": [
      "Cleaned text: @Jags123456 Bharat band on 28??<ed><ed>Those who  are protesting #demonetization  are all different party leaders\n"
     ]
    }
   ],
   "source": [
    "#Question 28\n",
    "import re\n",
    "\n",
    "def remove_unicode_symbols(text):\n",
    "    # match <U+..> like symbols\n",
    "    pattern = re.compile(r'<U\\+[0-9A-Fa-f]+>')\n",
    "\n",
    "    # all matches of the pattern with an empty string\n",
    "    cleaned_text = pattern.sub('', text)\n",
    "\n",
    "    return cleaned_text\n",
    "\n",
    "# Sample text\n",
    "sample_text = \"@Jags123456 Bharat band on 28??<ed><U+00A0><U+00BD><ed><U+00B8><U+0082>Those who  are protesting #demonetization  are all different party leaders\"\n",
    "\n",
    "# call function\n",
    "cleaned_text = remove_unicode_symbols(sample_text)\n",
    "\n",
    "print(\"Cleaned text:\", cleaned_text)\n"
   ]
  },
  {
   "cell_type": "code",
   "execution_count": 154,
   "id": "4e7aa0f0",
   "metadata": {},
   "outputs": [
    {
     "name": "stdout",
     "output_type": "stream",
     "text": [
      "Extracted dates: ['12-09-1992', '15-12-1999']\n"
     ]
    }
   ],
   "source": [
    "#Question 29\n",
    "import re\n",
    "\n",
    "def extract_dates_from_file(file_path):\n",
    "    \n",
    "    with open(file_path, 'r') as file:\n",
    "        text = file.read()\n",
    "        \n",
    "    pattern = re.compile(r'\\b\\d{2}-\\d{2}-\\d{4}\\b')\n",
    "    dates = pattern.findall(text)\n",
    "\n",
    "    return dates\n",
    "\n",
    "file_path = 'D:/flip/sample.txt'\n",
    "#call function\n",
    "dates = extract_dates_from_file(file_path)\n",
    "\n",
    "print(\"Extracted dates:\", dates)"
   ]
  },
  {
   "cell_type": "code",
   "execution_count": 155,
   "id": "67ca6e79",
   "metadata": {},
   "outputs": [
    {
     "name": "stdout",
     "output_type": "stream",
     "text": [
      "Cleaned text:  following example creates  ArrayList  a capacity   elements. 4 elements   added   ArrayList   ArrayList  trimmed accordingly.\n"
     ]
    }
   ],
   "source": [
    "#Question 30\n",
    "import re\n",
    "\n",
    "def remove_words_of_length_2_to_4(text):\n",
    "    # match words of length between 2 and 4\n",
    "    pattern = re.compile(r'\\b\\w{2,4}\\b')\n",
    "\n",
    "    # replace all matches of the pattern with an empty string\n",
    "    cleaned_text = pattern.sub('', text)\n",
    "\n",
    "    return cleaned_text\n",
    "\n",
    "# Sample text\n",
    "sample_text = \"The following example creates an ArrayList with a capacity of 50 elements. 4 elements are then added to the ArrayList and the ArrayList is trimmed accordingly.\"\n",
    "\n",
    "# call function\n",
    "cleaned_text = remove_words_of_length_2_to_4(sample_text)\n",
    "\n",
    "print(\"Cleaned text:\", cleaned_text)"
   ]
  },
  {
   "cell_type": "code",
   "execution_count": null,
   "id": "4feb9508",
   "metadata": {},
   "outputs": [],
   "source": []
  }
 ],
 "metadata": {
  "kernelspec": {
   "display_name": "Python 3 (ipykernel)",
   "language": "python",
   "name": "python3"
  },
  "language_info": {
   "codemirror_mode": {
    "name": "ipython",
    "version": 3
   },
   "file_extension": ".py",
   "mimetype": "text/x-python",
   "name": "python",
   "nbconvert_exporter": "python",
   "pygments_lexer": "ipython3",
   "version": "3.11.5"
  }
 },
 "nbformat": 4,
 "nbformat_minor": 5
}
